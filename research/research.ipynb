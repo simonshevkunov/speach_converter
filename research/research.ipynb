{
 "cells": [
  {
   "cell_type": "markdown",
   "id": "b8f752db",
   "metadata": {},
   "source": [
    "## 1) Telegram-bot \n",
    "\n",
    "хотим научится отправлять аудиосообщения"
   ]
  },
  {
   "cell_type": "markdown",
   "id": "ff05ce31",
   "metadata": {},
   "source": [
    "## 2) Yandex api"
   ]
  },
  {
   "cell_type": "code",
   "execution_count": 10,
   "id": "803cd4b7",
   "metadata": {},
   "outputs": [],
   "source": [
    "import requests\n",
    "import json"
   ]
  },
  {
   "cell_type": "code",
   "execution_count": 2,
   "id": "22b598b8",
   "metadata": {},
   "outputs": [],
   "source": [
    "resp = requests.get(\"https://informatics.msk.ru/mod/statements/view.php?id=271&chapterid=1426#1\")"
   ]
  },
  {
   "cell_type": "code",
   "execution_count": 5,
   "id": "67a1423d",
   "metadata": {},
   "outputs": [],
   "source": [
    "with open('test_resp.html', 'wb') as f:\n",
    "    f.write(resp.content)"
   ]
  },
  {
   "cell_type": "code",
   "execution_count": 22,
   "id": "cf3143f5",
   "metadata": {},
   "outputs": [],
   "source": [
    "address = \"Ленинские горы 1\"\n",
    "\n",
    "resp = requests.get(f'https://geocode-maps.yandex.ru/1.x/?apikey=f6844ecc-b2dc-47d8-9e8e-a5fa04074117&geocode={address}&format=json')"
   ]
  },
  {
   "cell_type": "code",
   "execution_count": 23,
   "id": "c5dafc3d",
   "metadata": {},
   "outputs": [],
   "source": [
    "geo_obj = json.loads(resp.content)"
   ]
  },
  {
   "cell_type": "code",
   "execution_count": 24,
   "id": "be37820c",
   "metadata": {},
   "outputs": [],
   "source": [
    "coords = geo_obj['response']['GeoObjectCollection']['featureMember'][0]['GeoObject']['Point']"
   ]
  },
  {
   "cell_type": "code",
   "execution_count": 25,
   "id": "54a607f6",
   "metadata": {},
   "outputs": [
    {
     "data": {
      "text/plain": [
       "{'pos': '37.530822 55.702952'}"
      ]
     },
     "execution_count": 25,
     "metadata": {},
     "output_type": "execute_result"
    }
   ],
   "source": [
    "coords"
   ]
  },
  {
   "cell_type": "code",
   "execution_count": null,
   "id": "75bd0405",
   "metadata": {},
   "outputs": [],
   "source": []
  }
 ],
 "metadata": {
  "kernelspec": {
   "display_name": "Python 3 (ipykernel)",
   "language": "python",
   "name": "python3"
  },
  "language_info": {
   "codemirror_mode": {
    "name": "ipython",
    "version": 3
   },
   "file_extension": ".py",
   "mimetype": "text/x-python",
   "name": "python",
   "nbconvert_exporter": "python",
   "pygments_lexer": "ipython3",
   "version": "3.9.7"
  }
 },
 "nbformat": 4,
 "nbformat_minor": 5
}
