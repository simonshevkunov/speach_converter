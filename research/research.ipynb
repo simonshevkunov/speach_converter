{
 "cells": [
  {
   "cell_type": "markdown",
   "id": "d283e768",
   "metadata": {},
   "source": [
    "## 1) Telegram-bot \n",
    "\n",
    "хотим научится отправлять аудиосообщения"
   ]
  },
  {
   "cell_type": "markdown",
   "id": "9e7e4870",
   "metadata": {},
   "source": [
    "## 2) Yandex api"
   ]
  },
  {
   "cell_type": "code",
   "execution_count": 9,
   "id": "a6660de3",
   "metadata": {},
   "outputs": [],
   "source": [
    "import requests\n",
    "import json"
   ]
  },
  {
   "cell_type": "code",
   "execution_count": 2,
   "id": "a4299908",
   "metadata": {},
   "outputs": [],
   "source": [
    "resp = requests.get(\"https://informatics.msk.ru/mod/statements/view.php?id=271&chapterid=1426#1\")"
   ]
  },
  {
   "cell_type": "code",
   "execution_count": 5,
   "id": "801ff7d9",
   "metadata": {},
   "outputs": [],
   "source": [
    "with open('test_resp.html', 'wb') as f:\n",
    "    f.write(resp.content)"
   ]
  },
  {
   "cell_type": "code",
   "execution_count": 22,
   "id": "16c7ad6c",
   "metadata": {},
   "outputs": [],
   "source": [
    "address = \"Ленинские горы 1\"\n",
    "\n",
    "resp = requests.get(f'https://geocode-maps.yandex.ru/1.x/?apikey=f6844ecc-b2dc-47d8-9e8e-a5fa04074117&geocode={address}&format=json')"
   ]
  },
  {
   "cell_type": "code",
   "execution_count": 23,
   "id": "d42e5e38",
   "metadata": {},
   "outputs": [],
   "source": [
    "geo_obj = json.loads(resp.content)"
   ]
  },
  {
   "cell_type": "code",
   "execution_count": 24,
   "id": "569bee1a",
   "metadata": {},
   "outputs": [],
   "source": [
    "coords = geo_obj['response']['GeoObjectCollection']['featureMember'][0]['GeoObject']['Point']"
   ]
  },
  {
   "cell_type": "code",
   "execution_count": 25,
   "id": "125b9783",
   "metadata": {},
   "outputs": [
    {
     "data": {
      "text/plain": [
       "{'pos': '37.530822 55.702952'}"
      ]
     },
     "execution_count": 25,
     "metadata": {},
     "output_type": "execute_result"
    }
   ],
   "source": [
    "coords"
   ]
  },
  {
   "cell_type": "code",
   "execution_count": null,
   "id": "9f78a263",
   "metadata": {},
   "outputs": [],
   "source": [
    "curl -X POST \\\n",
    "   -H \"Authorization: Bearer ${IAM_TOKEN}\" \\\n",
    "   --data-binary \"@speech.ogg\" \\\n",
    "   \"https://stt.api.cloud.yandex.net/speech/v1/stt:recognize?folderId=${FOLDER_ID}&lang=ru-RU\""
   ]
  },
  {
   "cell_type": "code",
   "execution_count": 10,
   "id": "71bfc231",
   "metadata": {},
   "outputs": [],
   "source": [
    "IAM_TOKEN = 't1.9euelZrNmp6TyY2Wns6RlJKKjJuej-3rnpWaz5jLl5COjcfOkZOSlZePj8jl8_cfU15s-e9gAAVj_N3z918BXGz572AABWP8.N7T9WobKdumm2-4SNJyMZRizhbAlqs8hAiLuFDsk2EB4QORRAF9U56mSWcPB0FVoXFkbNdiMgvPtAF8kwW-xCw'\n",
    "FOLDER_ID = 'b1gt07nk76c43kjffpvb'"
   ]
  },
  {
   "cell_type": "code",
   "execution_count": 11,
   "id": "913a5132",
   "metadata": {},
   "outputs": [],
   "source": [
    "headers = {\n",
    "    \"Authorization\": f\"Bearer {IAM_TOKEN}\"\n",
    "}\n",
    "with open('../new_file.ogg', 'rb') as f:\n",
    "    resp = requests.post(f\"https://stt.api.cloud.yandex.net/speech/v1/stt:recognize?folderId={FOLDER_ID}&lang=ru-RU\",\n",
    "                 data=f.read(),\n",
    "                        headers=headers)"
   ]
  },
  {
   "cell_type": "code",
   "execution_count": 12,
   "id": "eb2dc056",
   "metadata": {},
   "outputs": [],
   "source": [
    "res = json.loads(resp.content)"
   ]
  },
  {
   "cell_type": "code",
   "execution_count": 13,
   "id": "cb11fa99",
   "metadata": {},
   "outputs": [
    {
     "data": {
      "text/plain": [
       "{'error_code': 'UNAUTHORIZED',\n",
       " 'error_message': 'rpc error: code = PermissionDenied desc = Permission denied'}"
      ]
     },
     "execution_count": 13,
     "metadata": {},
     "output_type": "execute_result"
    }
   ],
   "source": [
    "res"
   ]
  },
  {
   "cell_type": "code",
   "execution_count": 8,
   "id": "0594c30e",
   "metadata": {},
   "outputs": [
    {
     "ename": "KeyError",
     "evalue": "'result'",
     "output_type": "error",
     "traceback": [
      "\u001b[0;31m---------------------------------------------------------------------------\u001b[0m",
      "\u001b[0;31mKeyError\u001b[0m                                  Traceback (most recent call last)",
      "\u001b[0;32m/var/folders/jb/408yjnl12jn4prjkwprbbs5c0000gn/T/ipykernel_14724/2672541293.py\u001b[0m in \u001b[0;36m<module>\u001b[0;34m\u001b[0m\n\u001b[0;32m----> 1\u001b[0;31m \u001b[0mres\u001b[0m\u001b[0;34m[\u001b[0m\u001b[0;34m'result'\u001b[0m\u001b[0;34m]\u001b[0m\u001b[0;34m\u001b[0m\u001b[0;34m\u001b[0m\u001b[0m\n\u001b[0m",
      "\u001b[0;31mKeyError\u001b[0m: 'result'"
     ]
    }
   ],
   "source": [
    "res['result']"
   ]
  },
  {
   "cell_type": "code",
   "execution_count": 1,
   "id": "fe58502c",
   "metadata": {},
   "outputs": [
    {
     "ename": "NameError",
     "evalue": "name 'res' is not defined",
     "output_type": "error",
     "traceback": [
      "\u001b[0;31m---------------------------------------------------------------------------\u001b[0m",
      "\u001b[0;31mNameError\u001b[0m                                 Traceback (most recent call last)",
      "\u001b[0;32m/var/folders/jb/408yjnl12jn4prjkwprbbs5c0000gn/T/ipykernel_67576/1158820258.py\u001b[0m in \u001b[0;36m<module>\u001b[0;34m\u001b[0m\n\u001b[0;32m----> 1\u001b[0;31m \u001b[0mres\u001b[0m\u001b[0;34m\u001b[0m\u001b[0;34m\u001b[0m\u001b[0m\n\u001b[0m",
      "\u001b[0;31mNameError\u001b[0m: name 'res' is not defined"
     ]
    }
   ],
   "source": []
  },
  {
   "cell_type": "code",
   "execution_count": null,
   "id": "30bf55f1",
   "metadata": {},
   "outputs": [],
   "source": []
  }
 ],
 "metadata": {
  "kernelspec": {
   "display_name": "Python 3 (ipykernel)",
   "language": "python",
   "name": "python3"
  },
  "language_info": {
   "codemirror_mode": {
    "name": "ipython",
    "version": 3
   },
   "file_extension": ".py",
   "mimetype": "text/x-python",
   "name": "python",
   "nbconvert_exporter": "python",
   "pygments_lexer": "ipython3",
   "version": "3.9.7"
  }
 },
 "nbformat": 4,
 "nbformat_minor": 5
}
